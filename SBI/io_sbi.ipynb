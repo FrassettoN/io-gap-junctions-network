{
 "cells": [
  {
   "cell_type": "code",
   "execution_count": null,
   "id": "35fd52e0",
   "metadata": {},
   "outputs": [],
   "source": [
    "import numpy as np\n",
    "import matplotlib.pyplot as plt\n",
    "import quantities as pq\n",
    "import bsb\n",
    "from bsb import Scaffold, parse_configuration_file\n",
    "from scipy.signal import welch, find_peaks\n",
    "import pandas as pd\n",
    "from IPython.display import HTML, display"
   ]
  },
  {
   "cell_type": "code",
   "execution_count": null,
   "id": "e9c47ed8",
   "metadata": {},
   "outputs": [],
   "source": [
    "bsb.verbosity = 0\n",
    "config = parse_configuration_file(\"io_sbi.yaml\", parser=\"yaml\")\n",
    "\n",
    "scaffold = Scaffold(config)\n",
    "scaffold.compile(clear=True)\n"
   ]
  },
  {
   "cell_type": "code",
   "execution_count": null,
   "id": "d1af39a6",
   "metadata": {},
   "outputs": [],
   "source": [
    "storage = scaffold.storage\n",
    "\n",
    "for cell_name, cell_type in scaffold.cell_types.items():\n",
    "    ps = cell_type.get_placement_set() \n",
    "    pos = ps.load_positions()\n",
    "    print(f\"{len(pos)} {cell_name} placed\")"
   ]
  },
  {
   "cell_type": "code",
   "execution_count": null,
   "id": "f0247bad",
   "metadata": {},
   "outputs": [],
   "source": [
    "fc = scaffold.get_connectivity_set(\"fake_connectivity\")\n",
    "if len(fc.load_connections()) > 0:\n",
    "    print(\"fake_connectivity is not fake!!\")"
   ]
  },
  {
   "cell_type": "code",
   "execution_count": null,
   "id": "d7f67051",
   "metadata": {},
   "outputs": [],
   "source": [
    "\n",
    "results = scaffold.run_simulation(\"basal_activity\")\n",
    "spiketrains = results.spiketrains\n",
    "signals = results.analogsignals\n",
    "\n",
    "if len(signals) == 0:\n",
    "    print(\"No signal recorded\")\n",
    "else:\n",
    "    print(np.mean(signals))\n"
   ]
  }
 ],
 "metadata": {
  "kernelspec": {
   "display_name": "cereb_env",
   "language": "python",
   "name": "python3"
  },
  "language_info": {
   "codemirror_mode": {
    "name": "ipython",
    "version": 3
   },
   "file_extension": ".py",
   "mimetype": "text/x-python",
   "name": "python",
   "nbconvert_exporter": "python",
   "pygments_lexer": "ipython3",
   "version": "3.10.13"
  }
 },
 "nbformat": 4,
 "nbformat_minor": 5
}
