{
 "cells": [
  {
   "cell_type": "code",
   "execution_count": null,
   "id": "35fd52e0",
   "metadata": {},
   "outputs": [],
   "source": [
    "import numpy as np\n",
    "import matplotlib.pyplot as plt\n",
    "import quantities as pq\n",
    "from bsb import Scaffold, parse_configuration_file\n",
    "from scipy.signal import welch, find_peaks\n",
    "import pandas as pd\n",
    "from IPython.display import HTML, display\n",
    "from utils import extract_device_data, plot_signal"
   ]
  },
  {
   "cell_type": "code",
   "execution_count": null,
   "id": "e9c47ed8",
   "metadata": {},
   "outputs": [],
   "source": [
    "# bsb.options.verbosity = 3\n",
    "config = parse_configuration_file(\"configurations/io.yaml\", parser=\"yaml\")\n",
    "\n",
    "scaffold = Scaffold(config)\n",
    "scaffold.compile(clear=True)"
   ]
  },
  {
   "cell_type": "code",
   "execution_count": null,
   "id": "d1af39a6",
   "metadata": {},
   "outputs": [],
   "source": [
    "storage = scaffold.storage\n",
    "\n",
    "for cell_name, cell_type in scaffold.cell_types.items():\n",
    "    ps = cell_type.get_placement_set() \n",
    "    pos = ps.load_positions()\n",
    "    print(f\"{len(pos)} {cell_name} placed\")"
   ]
  },
  {
   "cell_type": "code",
   "execution_count": null,
   "id": "f0247bad",
   "metadata": {},
   "outputs": [],
   "source": [
    "cs = scaffold.get_connectivity_set(\"gap_io\")\n",
    "for pre_locs, post_locs in cs.load_connections():\n",
    "    pre_cell_id = pre_locs[0]\n",
    "    post_cell_id = post_locs[0]\n",
    "\n",
    "    print(f\"Gap junction between cell {pre_cell_id} and {post_cell_id}\")"
   ]
  },
  {
   "cell_type": "code",
   "execution_count": null,
   "id": "d7f67051",
   "metadata": {},
   "outputs": [],
   "source": [
    "results = scaffold.run_simulation(\"basal_activity\")\n",
    "spiketrains = results.spiketrains\n",
    "signals = results.analogsignals"
   ]
  },
  {
   "cell_type": "code",
   "execution_count": null,
   "id": "01921fc9",
   "metadata": {},
   "outputs": [],
   "source": [
    "# Extract device data\n",
    "devices_data = extract_device_data(config)\n",
    "\n",
    "# Create a DataFrame for better display\n",
    "devices_df = pd.DataFrame(devices_data)\n",
    "HTML(devices_df.to_html(index=False))\n"
   ]
  },
  {
   "cell_type": "code",
   "execution_count": null,
   "id": "c18739bd",
   "metadata": {},
   "outputs": [],
   "source": [
    "# Analyze signal without input\n",
    "plot_signal(signal=signals[0], title=\"IO EGLIF Membrane Potential\")"
   ]
  },
  {
   "cell_type": "code",
   "execution_count": null,
   "id": "e8fe8a46",
   "metadata": {},
   "outputs": [],
   "source": [
    "# Analyze signal with input\n",
    "plot_signal(signal=signals[1], devices=devices_data)"
   ]
  },
  {
   "cell_type": "code",
   "execution_count": null,
   "id": "bad91e03",
   "metadata": {},
   "outputs": [],
   "source": [
    "# Analyze input region\n",
    "plot_signal(signal=signals[1], devices=devices_data, start=400, stop=700, figsize=(5, 4))"
   ]
  },
  {
   "cell_type": "code",
   "execution_count": null,
   "id": "3dca1a36",
   "metadata": {},
   "outputs": [],
   "source": [
    "# Store results in lists\n",
    "results = []\n",
    "\n",
    "for i, vm_signal in enumerate(signals):\n",
    "    sampling_rate = vm_signal.sampling_rate.rescale('Hz').magnitude\n",
    "    v_m = vm_signal.magnitude.flatten()\n",
    "\n",
    "    # Compute power spectral density\n",
    "    frequencies, power = welch(v_m, fs=sampling_rate, nperseg=len(v_m))\n",
    "\n",
    "    # Focus on STO frequency range (1–100 Hz)\n",
    "    sto_band = (frequencies >= 1) & (frequencies <= 100)\n",
    "    sto_freq = frequencies[sto_band][np.argmax(power[sto_band])]\n",
    "\n",
    "    # Find peaks and troughs\n",
    "    peaks, _ = find_peaks(v_m)\n",
    "    troughs, _ = find_peaks(-v_m)\n",
    "\n",
    "    # Make sure we align peaks/troughs\n",
    "    min_len = min(len(peaks), len(troughs))\n",
    "    amplitudes = np.abs(v_m[peaks[:min_len]] - v_m[troughs[:min_len]])\n",
    "    mean_amp = np.mean(amplitudes)\n",
    "    \n",
    "    # Store results\n",
    "    results.append({\n",
    "        \"Signal ID\": i,\n",
    "        \"STO Frequency (Hz)\": round(sto_freq, 2),\n",
    "        \"Mean STO Amplitude (mV)\": round(mean_amp, 2),\n",
    "        \"Peak Count\": len(peaks),\n",
    "        \"Trough Count\": len(troughs)\n",
    "    })\n",
    "\n",
    "# Create DataFrame\n",
    "results_df = pd.DataFrame(results)\n",
    "\n",
    "# Display as formatted table\n",
    "print(\"IO Cell Analysis\")\n",
    "print(\"=\" * 50)\n",
    "HTML(results_df.to_html(index=False))"
   ]
  }
 ],
 "metadata": {
  "kernelspec": {
   "display_name": "cereb_env",
   "language": "python",
   "name": "python3"
  },
  "language_info": {
   "codemirror_mode": {
    "name": "ipython",
    "version": 3
   },
   "file_extension": ".py",
   "mimetype": "text/x-python",
   "name": "python",
   "nbconvert_exporter": "python",
   "pygments_lexer": "ipython3",
   "version": "3.10.13"
  }
 },
 "nbformat": 4,
 "nbformat_minor": 5
}
