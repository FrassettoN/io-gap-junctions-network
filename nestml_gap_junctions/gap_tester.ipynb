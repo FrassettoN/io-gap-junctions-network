{
 "cells": [
  {
   "cell_type": "code",
   "execution_count": null,
   "id": "0e36ffbe",
   "metadata": {},
   "outputs": [],
   "source": [
    "import matplotlib.pyplot as plt\n",
    "import nest\n",
    "import numpy as np\n",
    "import os\n",
    "from pynestml.frontend.pynestml_frontend import generate_nest_target"
   ]
  },
  {
   "cell_type": "code",
   "execution_count": null,
   "id": "33345a6d",
   "metadata": {},
   "outputs": [],
   "source": [
    "def generate_code(neuron_model: str, models_path=\"\"):\n",
    "    \"\"\"\n",
    "    Generate NEST code for neuron model with gap junction support.\n",
    "    Parameters\n",
    "    ----------\n",
    "    neuron_model : str\n",
    "        Name of the neuron model to compile. This should correspond to a \n",
    "        .nestml file containing the neuron model definition.\n",
    "    models_path : str, optional\n",
    "        Path to the directory containing the NESTML model files.\n",
    "        Default is empty string (current directory).\n",
    "    \"\"\"\n",
    "    codegen_opts = {\"gap_junctions\": {\"enable\": True,\n",
    "                                        \"gap_current_port\": \"I_stim\",\n",
    "                                        \"membrane_potential_variable\": \"V_m\"}}\n",
    "\n",
    "    files = os.path.join(models_path, neuron_model + \".nestml\")\n",
    "    generate_nest_target(input_path=files,\n",
    "                            logging_level=\"WARNING\",\n",
    "                            module_name=\"nestml_gap_\" + neuron_model + \"_module\",\n",
    "                            suffix=\"_nestml\",\n",
    "                            codegen_opts=codegen_opts)\n",
    "\n",
    "    return neuron_model"
   ]
  },
  {
   "cell_type": "code",
   "execution_count": null,
   "id": "6bd29105",
   "metadata": {},
   "outputs": [],
   "source": [
    "def initialize_hh():\n",
    "    nest.Install(\"nestml_gap_hh_psc_alpha_neuron_module\")\n",
    "    neuron = nest.Create(\"hh_psc_alpha_neuron_nestml\", 2)\n",
    "    neuron.I_e = 650.0\n",
    "    neuron[0].V_m = -10.0\n",
    "\n",
    "    return neuron"
   ]
  },
  {
   "cell_type": "code",
   "execution_count": null,
   "id": "512c5945",
   "metadata": {},
   "outputs": [],
   "source": [
    "def initialize_aeif():\n",
    "    nest.Install(\"nestml_gap_aeif_cond_exp_neuron_module\")\n",
    "    neuron = nest.Create(\"aeif_cond_exp_neuron_nestml\", 2)\n",
    "    neuron.I_e = 650.0\n",
    "    neuron[0].V_m = -10.0 \n",
    "\n",
    "    return neuron"
   ]
  },
  {
   "cell_type": "code",
   "execution_count": null,
   "id": "a0e715ab",
   "metadata": {},
   "outputs": [],
   "source": [
    "def initilize_eglif():\n",
    "    nest.Install(\"nestml_gap_eglif_cond_alpha_multisyn_module\")\n",
    "    neuron = nest.Create(\"eglif_cond_alpha_multisyn_nestml\", 2)\n",
    "    neuron[0].V_m = -46.0 \n",
    "\n",
    "    return neuron"
   ]
  },
  {
   "cell_type": "code",
   "execution_count": null,
   "id": "be0ce8f8",
   "metadata": {},
   "outputs": [],
   "source": [
    "def initialize_cells(model):\n",
    "    if model == \"hh\":\n",
    "        return initialize_hh()\n",
    "    elif model == \"aeif\":\n",
    "        return initialize_aeif()\n",
    "    elif model == \"eglif\":\n",
    "        return initilize_eglif()\n",
    "        "
   ]
  },
  {
   "cell_type": "code",
   "execution_count": null,
   "id": "cae959ca",
   "metadata": {},
   "outputs": [],
   "source": [
    "def plot_vm(vm):\n",
    "    vm_values = vm.events[\"V_m\"]\n",
    "    senders = vm.events[\"senders\"]\n",
    "    times = vm.events[\"times\"]\n",
    "    plt.figure(figsize=(10, 5))\n",
    "    plt.plot(\n",
    "        times[np.where(senders == 1)], vm_values[np.where(senders == 1)], \"r-\",label=\"Neuron 1\")\n",
    "    plt.plot(\n",
    "        times[np.where(senders == 2)], vm_values[np.where(senders == 2)], \"g-\", label=\"Neuron 2\")\n",
    "    plt.legend(loc='upper right')\n",
    "    plt.xlabel(\"time (ms)\")\n",
    "    plt.ylabel(\"membrane potential (mV)\")\n",
    "    plt.show()"
   ]
  },
  {
   "cell_type": "code",
   "execution_count": null,
   "id": "5ab5e314",
   "metadata": {},
   "outputs": [],
   "source": [
    "def plot_mm_stim(mm_stim):\n",
    "    I_stim_values = mm_stim.events[\"I_stim_recordable\"]\n",
    "    senders_Istim = mm_stim.events[\"senders\"]\n",
    "    times_Istim = mm_stim.events[\"times\"]\n",
    "\n",
    "    plt.figure(figsize=(10, 5))\n",
    "    plt.plot(\n",
    "        times_Istim[np.where(senders_Istim == 1)], I_stim_values[np.where(senders_Istim == 1)], \"r-\",label=\"Neuron 1\"\n",
    "    )\n",
    "    plt.plot(\n",
    "        times_Istim[np.where(senders_Istim == 2)], I_stim_values[np.where(senders_Istim == 2)], \"g-\", label=\"Neuron 2\"\n",
    "    )\n",
    "    plt.legend(loc=\"upper right\")\n",
    "    plt.xlabel(\"time (ms)\")\n",
    "    plt.ylabel(\"I_gap (pA)\")\n",
    "    plt.title(\"Gap junction currents\")\n",
    "    plt.show()"
   ]
  },
  {
   "cell_type": "code",
   "execution_count": null,
   "id": "8b1cda25",
   "metadata": {},
   "outputs": [],
   "source": [
    "def simulate_network(selected_model, gap=False, dc_stim=False):\n",
    "    nest.ResetKernel()\n",
    "    nest.resolution = 0.05\n",
    "\n",
    "    neuron = initialize_cells(selected_model)\n",
    "\n",
    "    vm = nest.Create(\"voltmeter\", params={\"interval\": 0.1})\n",
    "    nest.Connect(vm, neuron, \"all_to_all\")\n",
    "\n",
    "    if dc_stim:\n",
    "        dc = nest.Create(\"dc_generator\", params={\"amplitude\": 0.5})\n",
    "        nest.Connect(dc, neuron[0], syn_spec={\"weight\": 1.0})\n",
    "    \n",
    "    I_stim_recordable =\"I_stim_recordable\" in nest.GetDefaults(models.get(selected_model))[\"recordables\"]\n",
    "    \n",
    "    if I_stim_recordable:\n",
    "        mm_stim = nest.Create(\"multimeter\", {\"record_from\": [\"I_stim_recordable\"] })\n",
    "        nest.Connect(mm_stim, neuron)\n",
    "\n",
    "    if gap:\n",
    "        nest.Connect(\n",
    "                neuron, neuron, \n",
    "                {\"rule\": \"all_to_all\", \"allow_autapses\": False}, \n",
    "                {\"synapse_model\": \"gap_junction\", \"weight\": 5}\n",
    "            )\n",
    "\n",
    "    nest.Simulate(5000.0)\n",
    "    plot_vm(vm)\n",
    "    if I_stim_recordable:\n",
    "        plot_mm_stim(mm_stim)\n",
    "    \n",
    "\n",
    "    return {\n",
    "        \"V_m\": vm.events[\"V_m\"], \n",
    "        \"I_stim\": mm_stim.events[\"I_stim_recordable\"] if I_stim_recordable else None\n",
    "    }\n",
    "    "
   ]
  },
  {
   "cell_type": "code",
   "execution_count": null,
   "id": "b3c4e538",
   "metadata": {},
   "outputs": [],
   "source": [
    "def confront_simulations(simulation_1, simulation_2):\n",
    "    V_m_1 = simulation_1[\"V_m\"]\n",
    "    V_m_2 = simulation_2[\"V_m\"]\n",
    "\n",
    "    I_stim_1 = simulation_1[\"I_stim\"]\n",
    "    I_stim_2 = simulation_2[\"I_stim\"]\n",
    "\n",
    "    V_m_equal = np.array_equal(V_m_1, V_m_2)\n",
    "    if V_m_equal:\n",
    "        print(\"Simulations have the same V_m trace\")\n",
    "    else:\n",
    "        print(\"Simulations have different V_m traces\")\n",
    "\n",
    "    I_stim_equal = np.array_equal(I_stim_1, I_stim_2)\n",
    "    if I_stim_equal:\n",
    "        print(\"Simulations have the same I_stim current\")\n",
    "    else:\n",
    "        print(\"Simulations have different I_stim_currents\")        \n",
    "    "
   ]
  },
  {
   "cell_type": "code",
   "execution_count": null,
   "id": "c4788ccc",
   "metadata": {},
   "outputs": [],
   "source": [
    "models = {\n",
    "    \"hh\": \"hh_psc_alpha_neuron_nestml\",\n",
    "    \"aeif\": \"aeif_cond_exp_neuron_nestml\", \n",
    "    \"eglif\": \"eglif_cond_alpha_multisyn_nestml\"\n",
    "}\n",
    "selected_model = \"eglif\"\n",
    "generate_model = False \n",
    "\n",
    "if generate_model:\n",
    "    generate_code(neuron_model=selected_code, models_path=\"../nest_models\")\n",
    "\n",
    "simulation_nogap = simulate_network(selected_model, gap=False)\n",
    "simulation_gap = simulate_network(selected_model, gap=True)"
   ]
  },
  {
   "cell_type": "code",
   "execution_count": null,
   "id": "f9d57b39",
   "metadata": {},
   "outputs": [],
   "source": [
    "confront_simulations(simulation_nogap, simulation_gap)"
   ]
  }
 ],
 "metadata": {
  "kernelspec": {
   "display_name": "cereb_env",
   "language": "python",
   "name": "python3"
  },
  "language_info": {
   "codemirror_mode": {
    "name": "ipython",
    "version": 3
   },
   "file_extension": ".py",
   "mimetype": "text/x-python",
   "name": "python",
   "nbconvert_exporter": "python",
   "pygments_lexer": "ipython3",
   "version": "3.10.13"
  }
 },
 "nbformat": 4,
 "nbformat_minor": 5
}
