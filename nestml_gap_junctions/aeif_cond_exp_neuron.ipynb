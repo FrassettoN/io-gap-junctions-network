{
 "cells": [
  {
   "cell_type": "code",
   "execution_count": null,
   "id": "82c972dd",
   "metadata": {},
   "outputs": [],
   "source": [
    "import matplotlib.pyplot as plt\n",
    "import nest\n",
    "import numpy\n",
    "import os\n",
    "from pynestml.frontend.pynestml_frontend import generate_nest_target"
   ]
  },
  {
   "cell_type": "code",
   "execution_count": null,
   "id": "dcea73ce",
   "metadata": {},
   "outputs": [],
   "source": [
    "def generate_code(neuron_model: str, models_path=\"\"):\n",
    "    \"\"\"\n",
    "    Generate NEST code for neuron model with gap junction support.\n",
    "    Parameters\n",
    "    ----------\n",
    "    neuron_model : str\n",
    "        Name of the neuron model to compile. This should correspond to a \n",
    "        .nestml file containing the neuron model definition.\n",
    "    models_path : str, optional\n",
    "        Path to the directory containing the NESTML model files.\n",
    "        Default is empty string (current directory).\n",
    "    \"\"\"\n",
    "    codegen_opts = {\"gap_junctions\": {\"enable\": True,\n",
    "                                        \"gap_current_port\": \"I_stim\",\n",
    "                                        \"membrane_potential_variable\": \"V_m\"}}\n",
    "\n",
    "    files = os.path.join(models_path, neuron_model + \".nestml\")\n",
    "    generate_nest_target(input_path=files,\n",
    "                            logging_level=\"WARNING\",\n",
    "                            module_name=\"nestml_gap_\" + neuron_model + \"_module\",\n",
    "                            suffix=\"_nestml\",\n",
    "                            codegen_opts=codegen_opts)\n",
    "\n",
    "    return neuron_model\n",
    "\n",
    "generate_code(neuron_model=\"aeif_cond_exp_neuron\", models_path=\"../nest_models\")"
   ]
  },
  {
   "cell_type": "code",
   "execution_count": null,
   "id": "d6ba1764",
   "metadata": {},
   "outputs": [],
   "source": [
    "\n",
    "nest.ResetKernel()\n",
    "nest.Install(\"nestml_gap_aeif_cond_exp_neuron_module\")\n",
    "nest.resolution = 0.05"
   ]
  },
  {
   "cell_type": "code",
   "execution_count": null,
   "id": "6558df2e",
   "metadata": {},
   "outputs": [],
   "source": [
    "\n",
    "\n",
    "neuron = nest.Create(\"aeif_cond_exp_neuron_nestml\", 2)\n",
    "neuron.I_e = 650.0\n",
    "neuron[0].V_m = -10.0 "
   ]
  },
  {
   "cell_type": "code",
   "execution_count": null,
   "id": "a8c9d983",
   "metadata": {},
   "outputs": [],
   "source": [
    "vm = nest.Create(\"voltmeter\", params={\"interval\": 0.1})\n",
    "nest.Connect(vm, neuron, \"all_to_all\")"
   ]
  },
  {
   "cell_type": "code",
   "execution_count": null,
   "id": "b4143309",
   "metadata": {},
   "outputs": [],
   "source": [
    "with_gaps = True\n",
    "if with_gaps:\n",
    "    nest.Connect(\n",
    "        neuron, neuron, \n",
    "        {\"rule\": \"all_to_all\", \"allow_autapses\": False}, \n",
    "        {\"synapse_model\": \"gap_junction\", \"weight\": 5}\n",
    "    )"
   ]
  },
  {
   "cell_type": "code",
   "execution_count": null,
   "id": "c4e64d3b",
   "metadata": {},
   "outputs": [],
   "source": [
    "nest.Simulate(5000.0)\n",
    "\n",
    "senders = vm.events[\"senders\"]\n",
    "times = vm.events[\"times\"]\n",
    "v_m_values = vm.events[\"V_m\"]\n",
    "\n",
    "\n",
    "plt.figure(figsize=(10, 5))\n",
    "plt.plot(\n",
    "    times[numpy.where(senders == 1)], v_m_values[numpy.where(senders == 1)], \"r-\",\n",
    "    label=\"Neuron 1 (V_m = -10.0)\")\n",
    "plt.plot(\n",
    "    times[numpy.where(senders == 2)], v_m_values[numpy.where(senders == 2)], \"g-\", label=\"Neuron 2 (V_m = -65.0)\")\n",
    "plt.legend(loc='upper right')\n",
    "plt.xlabel(\"time (ms)\")\n",
    "plt.ylabel(\"membrane potential (mV)\")\n",
    "plt.savefig(f\"images/aeif_cond_exp_{'with' if with_gaps else 'without'}\")\n",
    "plt.show()\n"
   ]
  }
 ],
 "metadata": {
  "kernelspec": {
   "display_name": "cereb_env",
   "language": "python",
   "name": "python3"
  },
  "language_info": {
   "codemirror_mode": {
    "name": "ipython",
    "version": 3
   },
   "file_extension": ".py",
   "mimetype": "text/x-python",
   "name": "python",
   "nbconvert_exporter": "python",
   "pygments_lexer": "ipython3",
   "version": "3.10.13"
  }
 },
 "nbformat": 4,
 "nbformat_minor": 5
}
